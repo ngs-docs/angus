{
 "metadata": {
  "name": ""
 },
 "nbformat": 3,
 "nbformat_minor": 0,
 "worksheets": [
  {
   "cells": [
    {
     "cell_type": "markdown",
     "metadata": {},
     "source": [
      "Quick tips --\n",
      "\n",
      "* Shift-ENTER to execute cell and move to next\n",
      "* Edit etc. cells whenever you want using mouse etc\n",
      "* Use menu (Cell... Run All...) to rerun the whole thing"
     ]
    },
    {
     "cell_type": "code",
     "collapsed": false,
     "input": [
      "%pylab inline"
     ],
     "language": "python",
     "metadata": {},
     "outputs": [
      {
       "output_type": "stream",
       "stream": "stdout",
       "text": [
        "Populating the interactive namespace from numpy and matplotlib\n"
       ]
      }
     ],
     "prompt_number": 1
    },
    {
     "cell_type": "code",
     "collapsed": false,
     "input": [
      "cd /mnt"
     ],
     "language": "python",
     "metadata": {},
     "outputs": [
      {
       "output_type": "stream",
       "stream": "stdout",
       "text": [
        "/mnt\n"
       ]
      }
     ],
     "prompt_number": 2
    },
    {
     "cell_type": "code",
     "collapsed": false,
     "input": [
      "# check out simulation code for making genomes and reads\n",
      "!git clone https://github.com/ctb/dbg-graph-null.git kmers"
     ],
     "language": "python",
     "metadata": {},
     "outputs": [
      {
       "output_type": "stream",
       "stream": "stdout",
       "text": [
        "Cloning into 'kmers'...\r\n"
       ]
      },
      {
       "output_type": "stream",
       "stream": "stdout",
       "text": [
        "remote: Counting objects: 37, done.\u001b[K\r\n",
        "remote: Compressing objects:  33% (1/3)   \u001b[K\r",
        "remote: Compressing objects:  66% (2/3)   \u001b[K\r",
        "remote: Compressing objects: 100% (3/3)   \u001b[K\r",
        "remote: Compressing objects: 100% (3/3), done.\u001b[K\r\n",
        "Unpacking objects:   2% (1/37)   \r",
        "Unpacking objects:   5% (2/37)   \r",
        "Unpacking objects:   8% (3/37)   \r",
        "Unpacking objects:  10% (4/37)   \r",
        "Unpacking objects:  13% (5/37)   \r",
        "Unpacking objects:  16% (6/37)   \r",
        "Unpacking objects:  18% (7/37)   \r",
        "Unpacking objects:  21% (8/37)   \r",
        "Unpacking objects:  24% (9/37)   \r",
        "Unpacking objects:  27% (10/37)   \r",
        "Unpacking objects:  29% (11/37)   \r",
        "Unpacking objects:  32% (12/37)   \r",
        "Unpacking objects:  35% (13/37)   \r",
        "remote: Total 37 (delta 0), reused 0 (delta 0)\u001b[K\r\n",
        "Unpacking objects:  37% (14/37)   \r",
        "Unpacking objects:  40% (15/37)   \r",
        "Unpacking objects:  43% (16/37)   \r",
        "Unpacking objects:  45% (17/37)   \r",
        "Unpacking objects:  48% (18/37)   \r",
        "Unpacking objects:  51% (19/37)   \r",
        "Unpacking objects:  54% (20/37)   \r",
        "Unpacking objects:  56% (21/37)   \r",
        "Unpacking objects:  59% (22/37)   \r",
        "Unpacking objects:  62% (23/37)   \r",
        "Unpacking objects:  64% (24/37)   \r",
        "Unpacking objects:  67% (25/37)   \r",
        "Unpacking objects:  70% (26/37)   \r",
        "Unpacking objects:  72% (27/37)   \r",
        "Unpacking objects:  75% (28/37)   \r",
        "Unpacking objects:  78% (29/37)   \r",
        "Unpacking objects:  81% (30/37)   \r",
        "Unpacking objects:  83% (31/37)   \r",
        "Unpacking objects:  86% (32/37)   \r",
        "Unpacking objects:  89% (33/37)   \r",
        "Unpacking objects:  91% (34/37)   \r",
        "Unpacking objects:  94% (35/37)   \r",
        "Unpacking objects:  97% (36/37)   \r"
       ]
      },
      {
       "output_type": "stream",
       "stream": "stdout",
       "text": [
        "Unpacking objects: 100% (37/37)   \r",
        "Unpacking objects: 100% (37/37), done.\r\n",
        "Checking connectivity... done.\r\n"
       ]
      }
     ],
     "prompt_number": 3
    },
    {
     "cell_type": "code",
     "collapsed": false,
     "input": [
      "cd kmers"
     ],
     "language": "python",
     "metadata": {},
     "outputs": [
      {
       "output_type": "stream",
       "stream": "stdout",
       "text": [
        "/mnt/kmers\n"
       ]
      }
     ],
     "prompt_number": 4
    },
    {
     "cell_type": "code",
     "collapsed": false,
     "input": [
      "ls"
     ],
     "language": "python",
     "metadata": {},
     "outputs": [
      {
       "output_type": "stream",
       "stream": "stdout",
       "text": [
        "Makefile                            make-random-genome.py\r\n",
        "dens.ipynb                          make-random-transcriptome.py\r\n",
        "fasta.py                            make-reads-biased-nonrandom.py\r\n",
        "make-biased-reads.py                make-reads-biased-random.py\r\n",
        "make-random-genome-with-repeats.py  make-reads.py\r\n"
       ]
      }
     ],
     "prompt_number": 5
    },
    {
     "cell_type": "code",
     "collapsed": false,
     "input": [
      "# build a random genome (1kb) with equal mixes of A/C/G/T\n",
      "!python make-random-genome.py -l 10000 > genome.fa"
     ],
     "language": "python",
     "metadata": {},
     "outputs": [],
     "prompt_number": 6
    },
    {
     "cell_type": "code",
     "collapsed": false,
     "input": [
      "# make reads at 100x coverage, 0 error.\n",
      "!python make-reads.py --coverage 100 --read-length 100 --error-rate 0 genome.fa > reads-e000.fa\n",
      "!head reads-e000.fa"
     ],
     "language": "python",
     "metadata": {},
     "outputs": [
      {
       "output_type": "stream",
       "stream": "stdout",
       "text": [
        "0 of 10000 reads mutated; 0 total mutations\r\n"
       ]
      },
      {
       "output_type": "stream",
       "stream": "stdout",
       "text": [
        ">read0\r\n",
        "TGCACTAAATGTCGCCGTGCATCTCTTTCTATCTTCTTGTCCTAAGATGCGATGGCCCTTTATGAATGGTTGCCTTACACCGTCCCGTGATGAAGACGGA\r\n",
        ">read1\r\n",
        "GAGAGGAGTATCCTTCAAATATTCTTTAGCGGAGAGCAAGTCTACAACCATCATCAGAGGGGGAGTGGTCGGTACAGGATGATCGTGATAGCTTAGGGGC\r\n",
        ">read2\r\n",
        "AGGGTAATCGACGTGTCCGTAGTAATCGCATCCTAAGCACGACCCGTTCAAACCGTCCGCTGCAAGATATTTATGCAAGTGCAGAGGGGAATTATACCCG\r\n",
        ">read3\r\n",
        "CCCACTCCGAGCAGTACTGCGTATTGACGCTGTGTTCGTTACATCTAGTGTGGCGATAATCCACTACACGGTAGCGTAGGTTACCGTGGCGGCGGGGTGC\r\n",
        ">read4\r\n",
        "AACTCACTCTGGCCGTCACAATAGAATACCGCTATGTACACAAGATCTAAAGGAAAGCTTCCTAGTTTCAAAGACTGGTAGTGGGAGTAAGGCTTTCTAC\r\n"
       ]
      }
     ],
     "prompt_number": 7
    },
    {
     "cell_type": "code",
     "collapsed": false,
     "input": [
      "# count all k-mers in the database and extract a k-mer distribution\n",
      "!abundance-dist-single.py -s -x 1e8 -k 20 reads-e000.fa reads-k20-e000.dist\n"
     ],
     "language": "python",
     "metadata": {},
     "outputs": [
      {
       "output_type": "stream",
       "stream": "stdout",
       "text": [
        "\r\n",
        "|| This is the script 'abundance-dist-single.py' in khmer.\r\n",
        "|| You are running khmer version 1.1\r\n",
        "|| You are also using screed version 0.7\r\n",
        "||\r\n",
        "|| If you use this script in a publication, please cite EACH of the following:\r\n",
        "||\r\n",
        "||   * MR Crusoe et al., 2014. doi: 10.6084/m9.figshare.979190\r\n",
        "||   * Q Zhang et al., arXiv:1309.2975 [q-bio.GN]\r\n",
        "||\r\n",
        "|| Please see the CITATION file for details.\r\n",
        "\r\n",
        "\r\n",
        "PARAMETERS:\r\n",
        " - kmer size =    20 \t\t(-k)\r\n",
        " - n tables =     4 \t\t(-N)\r\n",
        " - min tablesize = 1e+08 \t(-x)\r\n",
        "\r\n",
        "Estimated memory usage is 4e+08 bytes (n_tables x min_tablesize)\r\n",
        "--------\r\n",
        "making k-mer counting table\r\n"
       ]
      },
      {
       "output_type": "stream",
       "stream": "stdout",
       "text": [
        "building k-mer tracking table\r\n"
       ]
      },
      {
       "output_type": "stream",
       "stream": "stdout",
       "text": [
        "kmer_size: 20\r\n",
        "k-mer counting table sizes: [100000007L, 100000037L, 100000039L, 100000049L]\r\n",
        "outputting to reads-k20-e000.dist\r\n",
        "consuming input, round 1 -- reads-e000.fa\r\n"
       ]
      },
      {
       "output_type": "stream",
       "stream": "stdout",
       "text": [
        "preparing hist from reads-e000.fa...\r\n",
        "consuming input, round 2 -- reads-e000.fa\r\n"
       ]
      }
     ],
     "prompt_number": 8
    },
    {
     "cell_type": "code",
     "collapsed": false,
     "input": [
      "# in the dist file,\n",
      "#    column 1 is the k-mer count\n",
      "#    column 2 is the number of k-mers with that count\n",
      "#    column 3 is the number of k-mers with less than or equal to that count\n",
      "#    column 4 is the fraction of total k-mers with less than or equal to that count\n",
      "!head reads-k20-e000.dist\n"
     ],
     "language": "python",
     "metadata": {},
     "outputs": [
      {
       "output_type": "stream",
       "stream": "stdout",
       "text": [
        "0 0 0 0.0\r\n",
        "1 2 2 0.0\r\n",
        "2 0 2 0.0\r\n",
        "3 4 6 0.001\r\n",
        "4 2 8 0.001\r\n",
        "5 2 10 0.001\r\n",
        "6 1 11 0.001\r\n",
        "7 2 13 0.001\r\n",
        "8 1 14 0.001\r\n",
        "9 6 20 0.002\r\n"
       ]
      }
     ],
     "prompt_number": 9
    },
    {
     "cell_type": "code",
     "collapsed": false,
     "input": [
      "# read in the numbers\n",
      "dist = numpy.loadtxt('reads-k20-e000.dist')"
     ],
     "language": "python",
     "metadata": {},
     "outputs": [],
     "prompt_number": 10
    },
    {
     "cell_type": "code",
     "collapsed": false,
     "input": [
      "# plot the first two columns\n",
      "plot(dist[:,0], dist[:,1])\n",
      "xlabel('k-mer abundance')\n",
      "ylabel('# of k-mers with that abundance')"
     ],
     "language": "python",
     "metadata": {},
     "outputs": [
      {
       "metadata": {},
       "output_type": "pyout",
       "prompt_number": 11,
       "text": [
        "<matplotlib.text.Text at 0x7fb8d92d09d0>"
       ]
      },
      {
       "metadata": {},
       "output_type": "display_data",
       "png": "[encoded data removed]",
       "text": [
        "<matplotlib.figure.Figure at 0x7fb8d99567d0>"
       ]
      }
     ],
     "prompt_number": 11
    },
    {
     "cell_type": "code",
     "collapsed": false,
     "input": [
      "# make more reads at different error rate\n",
      "!python make-reads.py --coverage 100 --read-length 100 --error-rate .001 genome.fa > reads-e001.fa\n",
      "!python make-reads.py --coverage 100 --read-length 100 --error-rate .01 genome.fa > reads-e010.fa\n",
      "!python make-reads.py --coverage 100 --read-length 100 --error-rate .1 genome.fa > reads-e100.fa\n"
     ],
     "language": "python",
     "metadata": {},
     "outputs": [
      {
       "output_type": "stream",
       "stream": "stdout",
       "text": [
        "934 of 10000 reads mutated; 986 total mutations\r\n"
       ]
      },
      {
       "output_type": "stream",
       "stream": "stdout",
       "text": [
        "6258 of 10000 reads mutated; 10068 total mutations\r\n"
       ]
      },
      {
       "output_type": "stream",
       "stream": "stdout",
       "text": [
        "9999 of 10000 reads mutated; 111189 total mutations\r\n"
       ]
      }
     ],
     "prompt_number": 12
    },
    {
     "cell_type": "code",
     "collapsed": false,
     "input": [
      "!abundance-dist-single.py -s -x 1e8 -k 20 reads-e001.fa reads-k20-e001.dist\n",
      "!abundance-dist-single.py -s -x 1e8 -k 20 reads-e010.fa reads-k20-e010.dist\n",
      "!abundance-dist-single.py -s -x 1e8 -k 20 reads-e100.fa reads-k20-e100.dist"
     ],
     "language": "python",
     "metadata": {},
     "outputs": [
      {
       "output_type": "stream",
       "stream": "stdout",
       "text": [
        "\r\n",
        "|| This is the script 'abundance-dist-single.py' in khmer.\r\n",
        "|| You are running khmer version 1.1\r\n",
        "|| You are also using screed version 0.7\r\n",
        "||\r\n",
        "|| If you use this script in a publication, please cite EACH of the following:\r\n",
        "||\r\n",
        "||   * MR Crusoe et al., 2014. doi: 10.6084/m9.figshare.979190\r\n",
        "||   * Q Zhang et al., arXiv:1309.2975 [q-bio.GN]\r\n",
        "||\r\n",
        "|| Please see the CITATION file for details.\r\n",
        "\r\n",
        "\r\n",
        "PARAMETERS:\r\n",
        " - kmer size =    20 \t\t(-k)\r\n",
        " - n tables =     4 \t\t(-N)\r\n",
        " - min tablesize = 1e+08 \t(-x)\r\n",
        "\r\n",
        "Estimated memory usage is 4e+08 bytes (n_tables x min_tablesize)\r\n",
        "--------\r\n",
        "making k-mer counting table\r\n"
       ]
      },
      {
       "output_type": "stream",
       "stream": "stdout",
       "text": [
        "building k-mer tracking table\r\n"
       ]
      },
      {
       "output_type": "stream",
       "stream": "stdout",
       "text": [
        "kmer_size: 20\r\n",
        "k-mer counting table sizes: [100000007L, 100000037L, 100000039L, 100000049L]\r\n",
        "outputting to reads-k20-e001.dist\r\n",
        "consuming input, round 1 -- reads-e001.fa\r\n"
       ]
      },
      {
       "output_type": "stream",
       "stream": "stdout",
       "text": [
        "preparing hist from reads-e001.fa...\r\n",
        "consuming input, round 2 -- reads-e001.fa\r\n"
       ]
      },
      {
       "output_type": "stream",
       "stream": "stdout",
       "text": [
        "\r\n",
        "|| This is the script 'abundance-dist-single.py' in khmer.\r\n",
        "|| You are running khmer version 1.1\r\n",
        "|| You are also using screed version 0.7\r\n",
        "||\r\n",
        "|| If you use this script in a publication, please cite EACH of the following:\r\n",
        "||\r\n",
        "||   * MR Crusoe et al., 2014. doi: 10.6084/m9.figshare.979190\r\n",
        "||   * Q Zhang et al., arXiv:1309.2975 [q-bio.GN]\r\n",
        "||\r\n",
        "|| Please see the CITATION file for details.\r\n",
        "\r\n",
        "\r\n",
        "PARAMETERS:\r\n",
        " - kmer size =    20 \t\t(-k)\r\n",
        " - n tables =     4 \t\t(-N)\r\n",
        " - min tablesize = 1e+08 \t(-x)\r\n",
        "\r\n",
        "Estimated memory usage is 4e+08 bytes (n_tables x min_tablesize)\r\n",
        "--------\r\n",
        "making k-mer counting table\r\n"
       ]
      },
      {
       "output_type": "stream",
       "stream": "stdout",
       "text": [
        "building k-mer tracking table\r\n"
       ]
      },
      {
       "output_type": "stream",
       "stream": "stdout",
       "text": [
        "kmer_size: 20\r\n",
        "k-mer counting table sizes: [100000007L, 100000037L, 100000039L, 100000049L]\r\n",
        "outputting to reads-k20-e010.dist\r\n",
        "consuming input, round 1 -- reads-e010.fa\r\n"
       ]
      },
      {
       "output_type": "stream",
       "stream": "stdout",
       "text": [
        "preparing hist from reads-e010.fa...\r\n",
        "consuming input, round 2 -- reads-e010.fa\r\n"
       ]
      },
      {
       "output_type": "stream",
       "stream": "stdout",
       "text": [
        "\r\n",
        "|| This is the script 'abundance-dist-single.py' in khmer.\r\n",
        "|| You are running khmer version 1.1\r\n",
        "|| You are also using screed version 0.7\r\n",
        "||\r\n",
        "|| If you use this script in a publication, please cite EACH of the following:\r\n",
        "||\r\n",
        "||   * MR Crusoe et al., 2014. doi: 10.6084/m9.figshare.979190\r\n",
        "||   * Q Zhang et al., arXiv:1309.2975 [q-bio.GN]\r\n",
        "||\r\n",
        "|| Please see the CITATION file for details.\r\n",
        "\r\n",
        "\r\n",
        "PARAMETERS:\r\n",
        " - kmer size =    20 \t\t(-k)\r\n",
        " - n tables =     4 \t\t(-N)\r\n",
        " - min tablesize = 1e+08 \t(-x)\r\n",
        "\r\n",
        "Estimated memory usage is 4e+08 bytes (n_tables x min_tablesize)\r\n",
        "--------\r\n",
        "making k-mer counting table\r\n"
       ]
      },
      {
       "output_type": "stream",
       "stream": "stdout",
       "text": [
        "building k-mer tracking table\r\n"
       ]
      },
      {
       "output_type": "stream",
       "stream": "stdout",
       "text": [
        "kmer_size: 20\r\n",
        "k-mer counting table sizes: [100000007L, 100000037L, 100000039L, 100000049L]\r\n",
        "outputting to reads-k20-e100.dist\r\n",
        "consuming input, round 1 -- reads-e100.fa\r\n"
       ]
      },
      {
       "output_type": "stream",
       "stream": "stdout",
       "text": [
        "preparing hist from reads-e100.fa...\r\n",
        "consuming input, round 2 -- reads-e100.fa\r\n"
       ]
      }
     ],
     "prompt_number": 13
    },
    {
     "cell_type": "code",
     "collapsed": false,
     "input": [
      "# read in the numbers\n",
      "dist1 = numpy.loadtxt('reads-k20-e000.dist')\n",
      "dist2 = numpy.loadtxt('reads-k20-e001.dist')\n",
      "dist3 = numpy.loadtxt('reads-k20-e010.dist')\n",
      "dist4 = numpy.loadtxt('reads-k20-e100.dist')\n"
     ],
     "language": "python",
     "metadata": {},
     "outputs": [],
     "prompt_number": 14
    },
    {
     "cell_type": "code",
     "collapsed": false,
     "input": [
      "# errors produce a lot of low-abundance k-mers, distorting y axis\n",
      "plot(dist1[:,0], dist1[:,1], label='0')\n",
      "plot(dist2[:,0], dist2[:,1], label='.001')\n",
      "plot(dist3[:,0], dist3[:,1], label='.01')\n",
      "plot(dist4[:,0], dist4[:,1], label='.1')\n",
      "\n",
      "xlabel('k-mer abundance')\n",
      "ylabel('# of k-mers with that abundance')\n",
      "legend()"
     ],
     "language": "python",
     "metadata": {},
     "outputs": [
      {
       "metadata": {},
       "output_type": "pyout",
       "prompt_number": 15,
       "text": [
        "<matplotlib.legend.Legend at 0x7fb8d90962d0>"
       ]
      },
      {
       "metadata": {},
       "output_type": "display_data",
       "png": "[encoded data removed]",
       "text": [
        "<matplotlib.figure.Figure at 0x7fb8f036c310>"
       ]
      }
     ],
     "prompt_number": 15
    },
    {
     "cell_type": "code",
     "collapsed": false,
     "input": [
      "# so zoom in...\n",
      "plot(dist1[:,0], dist1[:,1], label='0')\n",
      "plot(dist2[:,0], dist2[:,1], label='.001')\n",
      "plot(dist3[:,0], dist3[:,1], label='.01')\n",
      "plot(dist4[:,0], dist4[:,1], label='.1')\n",
      "\n",
      "axis(ymax=1000)\n",
      "legend()"
     ],
     "language": "python",
     "metadata": {},
     "outputs": [
      {
       "metadata": {},
       "output_type": "pyout",
       "prompt_number": 16,
       "text": [
        "<matplotlib.legend.Legend at 0x7fb8d8f80150>"
       ]
      },
      {
       "metadata": {},
       "output_type": "display_data",
       "png": "[encoded data removed]",
       "text": [
        "<matplotlib.figure.Figure at 0x7fb8d921c490>"
       ]
      }
     ],
     "prompt_number": 16
    },
    {
     "cell_type": "code",
     "collapsed": false,
     "input": [
      "# what happens if we trim out all the unique k-mers? => reads.fa.abundfilt\n",
      "!filter-abund-single.py -C 2 -k 20 -x 1e8 reads-e000.fa\n",
      "!filter-abund-single.py -C 2 -k 20 -x 1e8 reads-e001.fa\n",
      "!filter-abund-single.py -C 2 -k 20 -x 1e8 reads-e010.fa\n",
      "!filter-abund-single.py -C 2 -k 20 -x 1e8 reads-e100.fa"
     ],
     "language": "python",
     "metadata": {},
     "outputs": [
      {
       "output_type": "stream",
       "stream": "stdout",
       "text": [
        "\r\n",
        "|| This is the script 'filter-abund-single.py' in khmer.\r\n",
        "|| You are running khmer version 1.1\r\n",
        "|| You are also using screed version 0.7\r\n",
        "||\r\n",
        "|| If you use this script in a publication, please cite EACH of the following:\r\n",
        "||\r\n",
        "||   * MR Crusoe et al., 2014. doi: 10.6084/m9.figshare.979190\r\n",
        "||   * Q Zhang et al., arXiv:1309.2975 [q-bio.GN]\r\n",
        "||\r\n",
        "|| Please see the CITATION file for details.\r\n",
        "\r\n",
        "\r\n",
        "PARAMETERS:\r\n",
        " - kmer size =    20 \t\t(-k)\r\n",
        " - n tables =     4 \t\t(-N)\r\n",
        " - min tablesize = 1e+08 \t(-x)\r\n",
        "\r\n",
        "Estimated memory usage is 4e+08 bytes (n_tables x min_tablesize)\r\n",
        "--------\r\n",
        "making k-mer counting table\r\n"
       ]
      },
      {
       "output_type": "stream",
       "stream": "stdout",
       "text": [
        "consuming input, round 1 -- reads-e000.fa\r\n"
       ]
      },
      {
       "output_type": "stream",
       "stream": "stdout",
       "text": [
        "fp rate estimated to be 0.000\r\n",
        "filtering reads-e000.fa\r\n",
        "starting threads\r\n",
        "starting writer\r\n",
        "loading...\r\n",
        "... filtering 0\r\n"
       ]
      },
      {
       "output_type": "stream",
       "stream": "stdout",
       "text": [
        "done loading in sequences\r\n"
       ]
      },
      {
       "output_type": "stream",
       "stream": "stdout",
       "text": [
        "DONE writing.\r\n",
        "processed 10000 / wrote 9999 / removed 1\r\n",
        "processed 1000000 bp / wrote 999900 bp / removed 100 bp\r\n",
        "discarded 0.0%\r\n",
        "output in reads-e000.fa.abundfilt\r\n"
       ]
      },
      {
       "output_type": "stream",
       "stream": "stdout",
       "text": [
        "\r\n",
        "|| This is the script 'filter-abund-single.py' in khmer.\r\n",
        "|| You are running khmer version 1.1\r\n",
        "|| You are also using screed version 0.7\r\n",
        "||\r\n",
        "|| If you use this script in a publication, please cite EACH of the following:\r\n",
        "||\r\n",
        "||   * MR Crusoe et al., 2014. doi: 10.6084/m9.figshare.979190\r\n",
        "||   * Q Zhang et al., arXiv:1309.2975 [q-bio.GN]\r\n",
        "||\r\n",
        "|| Please see the CITATION file for details.\r\n",
        "\r\n",
        "\r\n",
        "PARAMETERS:\r\n",
        " - kmer size =    20 \t\t(-k)\r\n",
        " - n tables =     4 \t\t(-N)\r\n",
        " - min tablesize = 1e+08 \t(-x)\r\n",
        "\r\n",
        "Estimated memory usage is 4e+08 bytes (n_tables x min_tablesize)\r\n",
        "--------\r\n",
        "making k-mer counting table\r\n"
       ]
      },
      {
       "output_type": "stream",
       "stream": "stdout",
       "text": [
        "consuming input, round 1 -- reads-e001.fa\r\n"
       ]
      },
      {
       "output_type": "stream",
       "stream": "stdout",
       "text": [
        "fp rate estimated to be 0.000\r\n",
        "filtering reads-e001.fa\r\n",
        "starting threads\r\n",
        "starting writer\r\n",
        "loading...\r\n",
        "... filtering 0\r\n"
       ]
      },
      {
       "output_type": "stream",
       "stream": "stdout",
       "text": [
        "done loading in sequences\r\n"
       ]
      },
      {
       "output_type": "stream",
       "stream": "stdout",
       "text": [
        "DONE writing.\r\n",
        "processed 10000 / wrote 9863 / removed 137\r\n",
        "processed 1000000 bp / wrote 962360 bp / removed 37640 bp\r\n",
        "discarded 3.8%\r\n",
        "output in reads-e001.fa.abundfilt\r\n"
       ]
      },
      {
       "output_type": "stream",
       "stream": "stdout",
       "text": [
        "\r\n",
        "|| This is the script 'filter-abund-single.py' in khmer.\r\n",
        "|| You are running khmer version 1.1\r\n",
        "|| You are also using screed version 0.7\r\n",
        "||\r\n",
        "|| If you use this script in a publication, please cite EACH of the following:\r\n",
        "||\r\n",
        "||   * MR Crusoe et al., 2014. doi: 10.6084/m9.figshare.979190\r\n",
        "||   * Q Zhang et al., arXiv:1309.2975 [q-bio.GN]\r\n",
        "||\r\n",
        "|| Please see the CITATION file for details.\r\n",
        "\r\n",
        "\r\n",
        "PARAMETERS:\r\n",
        " - kmer size =    20 \t\t(-k)\r\n",
        " - n tables =     4 \t\t(-N)\r\n",
        " - min tablesize = 1e+08 \t(-x)\r\n",
        "\r\n",
        "Estimated memory usage is 4e+08 bytes (n_tables x min_tablesize)\r\n",
        "--------\r\n",
        "making k-mer counting table\r\n"
       ]
      },
      {
       "output_type": "stream",
       "stream": "stdout",
       "text": [
        "consuming input, round 1 -- reads-e010.fa\r\n"
       ]
      },
      {
       "output_type": "stream",
       "stream": "stdout",
       "text": [
        "fp rate estimated to be 0.000\r\n",
        "filtering reads-e010.fa\r\n",
        "starting threads\r\n",
        "starting writer\r\n",
        "loading...\r\n",
        "... filtering 0\r\n"
       ]
      },
      {
       "output_type": "stream",
       "stream": "stdout",
       "text": [
        "done loading in sequences\r\n"
       ]
      },
      {
       "output_type": "stream",
       "stream": "stdout",
       "text": [
        "DONE writing.\r\n",
        "processed 10000 / wrote 8812 / removed 1188\r\n",
        "processed 1000000 bp / wrote 720355 bp / removed 279645 bp\r\n",
        "discarded 28.0%\r\n",
        "output in reads-e010.fa.abundfilt\r\n"
       ]
      },
      {
       "output_type": "stream",
       "stream": "stdout",
       "text": [
        "\r\n",
        "|| This is the script 'filter-abund-single.py' in khmer.\r\n",
        "|| You are running khmer version 1.1\r\n",
        "|| You are also using screed version 0.7\r\n",
        "||\r\n",
        "|| If you use this script in a publication, please cite EACH of the following:\r\n",
        "||\r\n",
        "||   * MR Crusoe et al., 2014. doi: 10.6084/m9.figshare.979190\r\n",
        "||   * Q Zhang et al., arXiv:1309.2975 [q-bio.GN]\r\n",
        "||\r\n",
        "|| Please see the CITATION file for details.\r\n",
        "\r\n",
        "\r\n",
        "PARAMETERS:\r\n",
        " - kmer size =    20 \t\t(-k)\r\n",
        " - n tables =     4 \t\t(-N)\r\n",
        " - min tablesize = 1e+08 \t(-x)\r\n",
        "\r\n",
        "Estimated memory usage is 4e+08 bytes (n_tables x min_tablesize)\r\n",
        "--------\r\n",
        "making k-mer counting table\r\n"
       ]
      },
      {
       "output_type": "stream",
       "stream": "stdout",
       "text": [
        "consuming input, round 1 -- reads-e100.fa\r\n"
       ]
      },
      {
       "output_type": "stream",
       "stream": "stdout",
       "text": [
        "fp rate estimated to be 0.000\r\n",
        "filtering reads-e100.fa\r\n",
        "starting threads\r\n",
        "starting writer\r\n"
       ]
      },
      {
       "output_type": "stream",
       "stream": "stdout",
       "text": [
        "loading...\r\n",
        "... filtering 0\r\n"
       ]
      },
      {
       "output_type": "stream",
       "stream": "stdout",
       "text": [
        "done loading in sequences\r\n"
       ]
      },
      {
       "output_type": "stream",
       "stream": "stdout",
       "text": [
        "DONE writing.\r\n",
        "processed 10000 / wrote 3097 / removed 6903\r\n",
        "processed 1000000 bp / wrote 101595 bp / removed 898405 bp\r\n",
        "discarded 89.8%\r\n",
        "output in reads-e100.fa.abundfilt\r\n"
       ]
      }
     ],
     "prompt_number": 17
    },
    {
     "cell_type": "code",
     "collapsed": false,
     "input": [
      "!abundance-dist-single.py -s -x 1e8 -k 20 reads-e000.fa.abundfilt reads-k20-e000-filt.dist\n",
      "!abundance-dist-single.py -s -x 1e8 -k 20 reads-e001.fa.abundfilt reads-k20-e001-filt.dist\n",
      "!abundance-dist-single.py -s -x 1e8 -k 20 reads-e010.fa.abundfilt reads-k20-e010-filt.dist\n",
      "!abundance-dist-single.py -s -x 1e8 -k 20 reads-e100.fa.abundfilt reads-k20-e100-filt.dist"
     ],
     "language": "python",
     "metadata": {},
     "outputs": [
      {
       "output_type": "stream",
       "stream": "stdout",
       "text": [
        "\r\n",
        "|| This is the script 'abundance-dist-single.py' in khmer.\r\n",
        "|| You are running khmer version 1.1\r\n",
        "|| You are also using screed version 0.7\r\n",
        "||\r\n",
        "|| If you use this script in a publication, please cite EACH of the following:\r\n",
        "||\r\n",
        "||   * MR Crusoe et al., 2014. doi: 10.6084/m9.figshare.979190\r\n",
        "||   * Q Zhang et al., arXiv:1309.2975 [q-bio.GN]\r\n",
        "||\r\n",
        "|| Please see the CITATION file for details.\r\n",
        "\r\n",
        "\r\n",
        "PARAMETERS:\r\n",
        " - kmer size =    20 \t\t(-k)\r\n",
        " - n tables =     4 \t\t(-N)\r\n",
        " - min tablesize = 1e+08 \t(-x)\r\n",
        "\r\n",
        "Estimated memory usage is 4e+08 bytes (n_tables x min_tablesize)\r\n",
        "--------\r\n",
        "making k-mer counting table\r\n"
       ]
      },
      {
       "output_type": "stream",
       "stream": "stdout",
       "text": [
        "building k-mer tracking table\r\n"
       ]
      },
      {
       "output_type": "stream",
       "stream": "stdout",
       "text": [
        "kmer_size: 20\r\n",
        "k-mer counting table sizes: [100000007L, 100000037L, 100000039L, 100000049L]\r\n",
        "outputting to reads-k20-e000-filt.dist\r\n",
        "consuming input, round 1 -- reads-e000.fa.abundfilt\r\n"
       ]
      },
      {
       "output_type": "stream",
       "stream": "stdout",
       "text": [
        "preparing hist from reads-e000.fa.abundfilt...\r\n",
        "consuming input, round 2 -- reads-e000.fa.abundfilt\r\n"
       ]
      },
      {
       "output_type": "stream",
       "stream": "stdout",
       "text": [
        "\r\n",
        "|| This is the script 'abundance-dist-single.py' in khmer.\r\n",
        "|| You are running khmer version 1.1\r\n",
        "|| You are also using screed version 0.7\r\n",
        "||\r\n",
        "|| If you use this script in a publication, please cite EACH of the following:\r\n",
        "||\r\n",
        "||   * MR Crusoe et al., 2014. doi: 10.6084/m9.figshare.979190\r\n",
        "||   * Q Zhang et al., arXiv:1309.2975 [q-bio.GN]\r\n",
        "||\r\n",
        "|| Please see the CITATION file for details.\r\n",
        "\r\n",
        "\r\n",
        "PARAMETERS:\r\n",
        " - kmer size =    20 \t\t(-k)\r\n",
        " - n tables =     4 \t\t(-N)\r\n",
        " - min tablesize = 1e+08 \t(-x)\r\n",
        "\r\n",
        "Estimated memory usage is 4e+08 bytes (n_tables x min_tablesize)\r\n",
        "--------\r\n",
        "making k-mer counting table\r\n"
       ]
      },
      {
       "output_type": "stream",
       "stream": "stdout",
       "text": [
        "building k-mer tracking table\r\n"
       ]
      },
      {
       "output_type": "stream",
       "stream": "stdout",
       "text": [
        "kmer_size: 20\r\n",
        "k-mer counting table sizes: [100000007L, 100000037L, 100000039L, 100000049L]\r\n",
        "outputting to reads-k20-e001-filt.dist\r\n",
        "consuming input, round 1 -- reads-e001.fa.abundfilt\r\n"
       ]
      },
      {
       "output_type": "stream",
       "stream": "stdout",
       "text": [
        "preparing hist from reads-e001.fa.abundfilt...\r\n",
        "consuming input, round 2 -- reads-e001.fa.abundfilt\r\n"
       ]
      },
      {
       "output_type": "stream",
       "stream": "stdout",
       "text": [
        "\r\n",
        "|| This is the script 'abundance-dist-single.py' in khmer.\r\n",
        "|| You are running khmer version 1.1\r\n",
        "|| You are also using screed version 0.7\r\n",
        "||\r\n",
        "|| If you use this script in a publication, please cite EACH of the following:\r\n",
        "||\r\n",
        "||   * MR Crusoe et al., 2014. doi: 10.6084/m9.figshare.979190\r\n",
        "||   * Q Zhang et al., arXiv:1309.2975 [q-bio.GN]\r\n",
        "||\r\n",
        "|| Please see the CITATION file for details.\r\n",
        "\r\n",
        "\r\n",
        "PARAMETERS:\r\n",
        " - kmer size =    20 \t\t(-k)\r\n",
        " - n tables =     4 \t\t(-N)\r\n",
        " - min tablesize = 1e+08 \t(-x)\r\n",
        "\r\n",
        "Estimated memory usage is 4e+08 bytes (n_tables x min_tablesize)\r\n",
        "--------\r\n",
        "making k-mer counting table\r\n"
       ]
      },
      {
       "output_type": "stream",
       "stream": "stdout",
       "text": [
        "building k-mer tracking table\r\n"
       ]
      },
      {
       "output_type": "stream",
       "stream": "stdout",
       "text": [
        "kmer_size: 20\r\n",
        "k-mer counting table sizes: [100000007L, 100000037L, 100000039L, 100000049L]\r\n",
        "outputting to reads-k20-e010-filt.dist\r\n",
        "consuming input, round 1 -- reads-e010.fa.abundfilt\r\n"
       ]
      },
      {
       "output_type": "stream",
       "stream": "stdout",
       "text": [
        "preparing hist from reads-e010.fa.abundfilt...\r\n",
        "consuming input, round 2 -- reads-e010.fa.abundfilt\r\n"
       ]
      },
      {
       "output_type": "stream",
       "stream": "stdout",
       "text": [
        "\r\n",
        "|| This is the script 'abundance-dist-single.py' in khmer.\r\n",
        "|| You are running khmer version 1.1\r\n",
        "|| You are also using screed version 0.7\r\n",
        "||\r\n",
        "|| If you use this script in a publication, please cite EACH of the following:\r\n",
        "||\r\n",
        "||   * MR Crusoe et al., 2014. doi: 10.6084/m9.figshare.979190\r\n",
        "||   * Q Zhang et al., arXiv:1309.2975 [q-bio.GN]\r\n",
        "||\r\n",
        "|| Please see the CITATION file for details.\r\n",
        "\r\n",
        "\r\n",
        "PARAMETERS:\r\n",
        " - kmer size =    20 \t\t(-k)\r\n",
        " - n tables =     4 \t\t(-N)\r\n",
        " - min tablesize = 1e+08 \t(-x)\r\n",
        "\r\n",
        "Estimated memory usage is 4e+08 bytes (n_tables x min_tablesize)\r\n",
        "--------\r\n",
        "making k-mer counting table\r\n"
       ]
      },
      {
       "output_type": "stream",
       "stream": "stdout",
       "text": [
        "building k-mer tracking table\r\n"
       ]
      },
      {
       "output_type": "stream",
       "stream": "stdout",
       "text": [
        "kmer_size: 20\r\n",
        "k-mer counting table sizes: [100000007L, 100000037L, 100000039L, 100000049L]\r\n",
        "outputting to reads-k20-e100-filt.dist\r\n",
        "consuming input, round 1 -- reads-e100.fa.abundfilt\r\n"
       ]
      },
      {
       "output_type": "stream",
       "stream": "stdout",
       "text": [
        "preparing hist from reads-e100.fa.abundfilt...\r\n",
        "consuming input, round 2 -- reads-e100.fa.abundfilt\r\n"
       ]
      }
     ],
     "prompt_number": 18
    },
    {
     "cell_type": "code",
     "collapsed": false,
     "input": [
      "# read in the numbers\n",
      "fdist1 = numpy.loadtxt('reads-k20-e000-filt.dist')\n",
      "fdist2 = numpy.loadtxt('reads-k20-e001-filt.dist')\n",
      "fdist3 = numpy.loadtxt('reads-k20-e010-filt.dist')\n",
      "fdist4 = numpy.loadtxt('reads-k20-e100-filt.dist')\n"
     ],
     "language": "python",
     "metadata": {},
     "outputs": [],
     "prompt_number": 19
    },
    {
     "cell_type": "code",
     "collapsed": false,
     "input": [
      "plot(dist3[:,0], dist3[:,1], label='.01 unfilt')\n",
      "plot(fdist3[:,0], fdist3[:,1], label='.01 filt')\n",
      "axis(ymax=1000)\n",
      "legend()"
     ],
     "language": "python",
     "metadata": {},
     "outputs": [
      {
       "metadata": {},
       "output_type": "pyout",
       "prompt_number": 20,
       "text": [
        "<matplotlib.legend.Legend at 0x7fb8d8ec7a90>"
       ]
      },
      {
       "metadata": {},
       "output_type": "display_data",
       "png": "[encoded data removed]",
       "text": [
        "<matplotlib.figure.Figure at 0x7fb8d8fab050>"
       ]
      }
     ],
     "prompt_number": 20
    },
    {
     "cell_type": "markdown",
     "metadata": {},
     "source": [
      "## question:\n",
      "\n",
      "Why is the green abundance distribution shifted left?? didn't we just eliminate abundance-1 k-mers?"
     ]
    },
    {
     "cell_type": "code",
     "collapsed": false,
     "input": [
      "## DIGRESSION - back to presentation to talk about digital normalization"
     ],
     "language": "python",
     "metadata": {},
     "outputs": [],
     "prompt_number": 22
    },
    {
     "cell_type": "code",
     "collapsed": false,
     "input": [
      "# run digital normalization\n",
      "!normalize-by-median.py -x 2e8 -N 4 -k 20 -C 20 reads-e010.fa"
     ],
     "language": "python",
     "metadata": {},
     "outputs": [
      {
       "output_type": "stream",
       "stream": "stdout",
       "text": [
        "\r\n",
        "|| This is the script 'normalize-by-median.py' in khmer.\r\n",
        "|| You are running khmer version 1.1\r\n",
        "|| You are also using screed version 0.7\r\n",
        "||\r\n",
        "|| If you use this script in a publication, please cite EACH of the following:\r\n",
        "||\r\n",
        "||   * MR Crusoe et al., 2014. doi: 10.6084/m9.figshare.979190\r\n",
        "||   * CT Brown et al., arXiv:1203.4802 [q-bio.GN]\r\n",
        "||\r\n",
        "|| Please see the CITATION file for details.\r\n",
        "\r\n",
        "\r\n",
        "PARAMETERS:\r\n",
        " - kmer size =    20 \t\t(-k)\r\n",
        " - n tables =     4 \t\t(-N)\r\n",
        " - min tablesize = 2e+08 \t(-x)\r\n",
        "\r\n",
        "Estimated memory usage is 8e+08 bytes (n_tables x min_tablesize)\r\n",
        "--------\r\n",
        "making k-mer counting table\r\n"
       ]
      },
      {
       "output_type": "stream",
       "stream": "stdout",
       "text": [
        "DONE with reads-e010.fa; kept 3482 of 10000 or 34%\r\n",
        "output in reads-e010.fa.keep\r\n"
       ]
      },
      {
       "output_type": "stream",
       "stream": "stdout",
       "text": [
        "fp rate estimated to be 0.000\r\n"
       ]
      }
     ],
     "prompt_number": 23
    },
    {
     "cell_type": "code",
     "collapsed": false,
     "input": [
      "# let's look at the abundance distribution post-diginorm\n",
      "!abundance-dist-single.py -s -k 20 -x 1e8 reads-e010.fa.keep reads-e010-dn.dist"
     ],
     "language": "python",
     "metadata": {},
     "outputs": [
      {
       "output_type": "stream",
       "stream": "stdout",
       "text": [
        "\r\n",
        "|| This is the script 'abundance-dist-single.py' in khmer.\r\n",
        "|| You are running khmer version 1.1\r\n",
        "|| You are also using screed version 0.7\r\n",
        "||\r\n",
        "|| If you use this script in a publication, please cite EACH of the following:\r\n",
        "||\r\n",
        "||   * MR Crusoe et al., 2014. doi: 10.6084/m9.figshare.979190\r\n",
        "||   * Q Zhang et al., arXiv:1309.2975 [q-bio.GN]\r\n",
        "||\r\n",
        "|| Please see the CITATION file for details.\r\n",
        "\r\n",
        "\r\n",
        "PARAMETERS:\r\n",
        " - kmer size =    20 \t\t(-k)\r\n",
        " - n tables =     4 \t\t(-N)\r\n",
        " - min tablesize = 1e+08 \t(-x)\r\n",
        "\r\n",
        "Estimated memory usage is 4e+08 bytes (n_tables x min_tablesize)\r\n",
        "--------\r\n",
        "making k-mer counting table\r\n"
       ]
      },
      {
       "output_type": "stream",
       "stream": "stdout",
       "text": [
        "building k-mer tracking table\r\n"
       ]
      },
      {
       "output_type": "stream",
       "stream": "stdout",
       "text": [
        "kmer_size: 20\r\n",
        "k-mer counting table sizes: [100000007L, 100000037L, 100000039L, 100000049L]\r\n",
        "outputting to reads-e010-dn.dist\r\n",
        "consuming input, round 1 -- reads-e010.fa.keep\r\n"
       ]
      },
      {
       "output_type": "stream",
       "stream": "stdout",
       "text": [
        "preparing hist from reads-e010.fa.keep...\r\n",
        "consuming input, round 2 -- reads-e010.fa.keep\r\n"
       ]
      }
     ],
     "prompt_number": 24
    },
    {
     "cell_type": "code",
     "collapsed": false,
     "input": [
      "dist3_dn = numpy.loadtxt('reads-e010-dn.dist')"
     ],
     "language": "python",
     "metadata": {},
     "outputs": [],
     "prompt_number": 25
    },
    {
     "cell_type": "code",
     "collapsed": false,
     "input": [
      "plot(dist3[:,0], dist3[:,1], label='reads')\n",
      "plot(fdist3[:,0], fdist3[:,1], label='filtered')\n",
      "plot(dist3_dn[:,0], dist3_dn[:,1], label='DN')\n",
      "\n",
      "xlabel('k-mer abundance')\n",
      "ylabel('# of k-mers with that abundance')\n",
      "axis(ymax=1000)\n",
      "legend()"
     ],
     "language": "python",
     "metadata": {},
     "outputs": [
      {
       "metadata": {},
       "output_type": "pyout",
       "prompt_number": 26,
       "text": [
        "<matplotlib.legend.Legend at 0x7fb8d8d50290>"
       ]
      },
      {
       "metadata": {},
       "output_type": "display_data",
       "png": "[encoded data removed]",
       "text": [
        "<matplotlib.figure.Figure at 0x7fb8d8d58810>"
       ]
      }
     ],
     "prompt_number": 26
    },
    {
     "cell_type": "markdown",
     "metadata": {},
     "source": [
      "### Note, after running digital normalization, you have a LOT less data:"
     ]
    },
    {
     "cell_type": "code",
     "collapsed": false,
     "input": [
      "!ls -la *e010*fa*"
     ],
     "language": "python",
     "metadata": {},
     "outputs": [
      {
       "output_type": "stream",
       "stream": "stdout",
       "text": [
        "-rw-r--r-- 1 root root 1108890 Aug 14 17:27 reads-e010.fa\r\n",
        "-rw-r--r-- 1 root root  816323 Aug 14 17:27 reads-e010.fa.abundfilt\r\n",
        "-rw-r--r-- 1 root root  385392 Aug 14 17:31 reads-e010.fa.keep\r\n"
       ]
      }
     ],
     "prompt_number": 27
    },
    {
     "cell_type": "code",
     "collapsed": false,
     "input": [],
     "language": "python",
     "metadata": {},
     "outputs": []
    }
   ],
   "metadata": {}
  }
 ]
}